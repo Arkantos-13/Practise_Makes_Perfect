{
 "cells": [
  {
   "cell_type": "code",
   "execution_count": 1,
   "metadata": {},
   "outputs": [
    {
     "name": "stdout",
     "output_type": "stream",
     "text": [
      "Let's play Battleship! \n",
      "\n",
      "O O O O O\n",
      "O O O O O\n",
      "O O O O O\n",
      "O O O O O\n",
      "O O O O O\n",
      "\n",
      "\n"
     ]
    },
    {
     "name": "stdin",
     "output_type": "stream",
     "text": [
      "Guess Row: 1\n",
      "Guess Col: 2\n"
     ]
    },
    {
     "name": "stdout",
     "output_type": "stream",
     "text": [
      "You missed my battleship! \n",
      "\n",
      "You have 1 out of five \n",
      "\n",
      "O O O O O\n",
      "O O X O O\n",
      "O O O O O\n",
      "O O O O O\n",
      "O O O O O\n",
      "\n",
      "\n"
     ]
    },
    {
     "name": "stdin",
     "output_type": "stream",
     "text": [
      "Guess Row: 1\n",
      "Guess Col: 3\n"
     ]
    },
    {
     "name": "stdout",
     "output_type": "stream",
     "text": [
      "You missed my battleship! \n",
      "\n",
      "You have 2 out of five \n",
      "\n",
      "O O O O O\n",
      "O O X X O\n",
      "O O O O O\n",
      "O O O O O\n",
      "O O O O O\n",
      "\n",
      "\n"
     ]
    },
    {
     "name": "stdin",
     "output_type": "stream",
     "text": [
      "Guess Row: 2\n",
      "Guess Col: 2\n"
     ]
    },
    {
     "name": "stdout",
     "output_type": "stream",
     "text": [
      "You missed my battleship! \n",
      "\n",
      "You have 3 out of five \n",
      "\n",
      "O O O O O\n",
      "O O X X O\n",
      "O O X O O\n",
      "O O O O O\n",
      "O O O O O\n",
      "\n",
      "\n"
     ]
    },
    {
     "name": "stdin",
     "output_type": "stream",
     "text": [
      "Guess Row: 4\n",
      "Guess Col: 2\n"
     ]
    },
    {
     "name": "stdout",
     "output_type": "stream",
     "text": [
      "You missed my battleship! \n",
      "\n",
      "You have 4 out of five \n",
      "\n",
      "O O O O O\n",
      "O O X X O\n",
      "O O X O O\n",
      "O O O O O\n",
      "O O X O O\n",
      "\n",
      "\n"
     ]
    },
    {
     "name": "stdin",
     "output_type": "stream",
     "text": [
      "Guess Row: 3\n",
      "Guess Col: 2\n"
     ]
    },
    {
     "name": "stdout",
     "output_type": "stream",
     "text": [
      "You missed my battleship! \n",
      "\n",
      "You have 5 out of five \n",
      "\n",
      "O O O O O\n",
      "O O X X O\n",
      "O O X O O\n",
      "O O X O O\n",
      "O O X O O\n",
      "\n",
      " GAME OVER \n",
      "\n",
      "My ship was here: [1][0]\n",
      "Would you like to play again?\n"
     ]
    }
   ],
   "source": [
    "import random as rd\n",
    "\n",
    "# Initializing board\n",
    "board = []\n",
    "\n",
    "# The board is a matrix of 5 x 5 \n",
    "# 'O' is the possible positions that a ship can be \n",
    "# 'X' is the positions that we have bombed to win  \n",
    "\n",
    "for x in range(5):\n",
    "    board.append([\"O\"] * 5)\n",
    "\n",
    "def print_board(board):\n",
    "    for row in board:\n",
    "        print (\" \".join(row))\n",
    "\n",
    "# Starting the game and printing the board\n",
    "print (\"Let's play Battleship! \\n\")\n",
    "print_board(board)\n",
    "\n",
    "# Defining where the ship would be\n",
    "\n",
    "# random_row is a random integer between (0,5)\n",
    "def random_row(board):\n",
    "    return rd.randint(0, len(board) - 1)\n",
    "\n",
    "# random_col is a random integer between (0,5)\n",
    "def random_col(board):\n",
    "    return rd.randint(0, len(board) - 1)\n",
    "\n",
    "# ship_row is one of the two coordinates that the ship is really is \n",
    "# ship_col is one of the two coordinates that the ship is really is \n",
    "ship_row = random_row(board)\n",
    "ship_col = random_col(board)\n",
    "\n",
    "# Asking the user for a guess\n",
    "for turn in range(5):\n",
    "    \n",
    "    print('\\n')\n",
    "    guess_row = int(input(\"Guess Row:\"))\n",
    "    guess_col = int(input(\"Guess Col:\"))\n",
    "    \n",
    "    # If the user's right, the game ends immediately\n",
    "    if guess_row == ship_row and guess_col == ship_col:\n",
    "        print (\"Congratulations! You sunk my battleship! \\n\")\n",
    "        break\n",
    "    else:\n",
    "        # Warning if the guess is out of the board of the ocean \n",
    "        if (guess_row < 0 or guess_row > 5) or (guess_col < 0 or guess_col > 5):\n",
    "            print( \"\\n Oops, that's not even in the ocean \\n\")\n",
    "        \n",
    "        # Warning if the guess was already made before by the user\n",
    "        elif(board[guess_row][guess_col] == \"X\"):\n",
    "            print (\"You guessed that one already \\n\")\n",
    "        \n",
    "        # If the guess is wrong, mark the point with an X and start again\n",
    "        # We keep all the previous choices that were made by the user         \n",
    "        else:\n",
    "            print (\"You missed my battleship! \\n\")\n",
    "            board[guess_row][guess_col] = \"X\"\n",
    "        \n",
    "        # Print turn and board again here\n",
    "        print('You have ' + str(turn+1) + ' out of five \\n')\n",
    "        print_board(board)\n",
    "\n",
    "# If the user have made 5 tries, it's Game Over\n",
    "if turn >= 4:\n",
    "    print (\"\\n GAME OVER \\n\")\n",
    "    \n",
    "print('My ship was here: [' + str(ship_row) + '][' + str(ship_col) +']')\n",
    "print('Would you like to play again?')"
   ]
  }
 ],
 "metadata": {
  "kernelspec": {
   "display_name": "Python 3",
   "language": "python",
   "name": "python3"
  },
  "language_info": {
   "codemirror_mode": {
    "name": "ipython",
    "version": 3
   },
   "file_extension": ".py",
   "mimetype": "text/x-python",
   "name": "python",
   "nbconvert_exporter": "python",
   "pygments_lexer": "ipython3",
   "version": "3.7.6"
  }
 },
 "nbformat": 4,
 "nbformat_minor": 4
}
