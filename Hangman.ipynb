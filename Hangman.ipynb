{
 "cells": [
  {
   "cell_type": "code",
   "execution_count": 1,
   "id": "demographic-thanksgiving",
   "metadata": {},
   "outputs": [
    {
     "name": "stdin",
     "output_type": "stream",
     "text": [
      "Please type the secret word, so the game starts: ·········\n"
     ]
    },
    {
     "name": "stdout",
     "output_type": "stream",
     "text": [
      "_ _ _ _ _ _ _ _ _  \n"
     ]
    },
    {
     "name": "stdin",
     "output_type": "stream",
     "text": [
      "You have 6 until you lose. Be more careful: E\n"
     ]
    },
    {
     "name": "stdout",
     "output_type": "stream",
     "text": [
      "_ E _ _ _ _ _ _ _  \n"
     ]
    },
    {
     "name": "stdin",
     "output_type": "stream",
     "text": [
      "You have 6 until you lose. Be more careful: A\n"
     ]
    },
    {
     "name": "stdout",
     "output_type": "stream",
     "text": [
      "_ E _ _ _ _ A _ _  \n"
     ]
    },
    {
     "name": "stdin",
     "output_type": "stream",
     "text": [
      "You have 6 until you lose. Be more careful: L\n"
     ]
    },
    {
     "name": "stdout",
     "output_type": "stream",
     "text": [
      "_ E _ _ _ _ A _ _  \n"
     ]
    },
    {
     "name": "stdin",
     "output_type": "stream",
     "text": [
      "You have 5 until you lose. Be more careful: D\n"
     ]
    },
    {
     "name": "stdout",
     "output_type": "stream",
     "text": [
      "D E _ _ _ _ A _ _  \n"
     ]
    },
    {
     "name": "stdin",
     "output_type": "stream",
     "text": [
      "You have 5 until you lose. Be more careful: M\n"
     ]
    },
    {
     "name": "stdout",
     "output_type": "stream",
     "text": [
      "D E M _ _ _ A _ _  \n"
     ]
    },
    {
     "name": "stdin",
     "output_type": "stream",
     "text": [
      "You have 5 until you lose. Be more careful: O\n"
     ]
    },
    {
     "name": "stdout",
     "output_type": "stream",
     "text": [
      "D E M O _ _ A _ _  \n"
     ]
    },
    {
     "name": "stdin",
     "output_type": "stream",
     "text": [
      "You have 5 until you lose. Be more careful: C\n"
     ]
    },
    {
     "name": "stdout",
     "output_type": "stream",
     "text": [
      "D E M O C _ A C _  \n"
     ]
    },
    {
     "name": "stdin",
     "output_type": "stream",
     "text": [
      "You have 5 until you lose. Be more careful: R\n"
     ]
    },
    {
     "name": "stdout",
     "output_type": "stream",
     "text": [
      "D E M O C R A C _  \n"
     ]
    },
    {
     "name": "stdin",
     "output_type": "stream",
     "text": [
      "You have 5 until you lose. Be more careful: Y\n"
     ]
    },
    {
     "name": "stdout",
     "output_type": "stream",
     "text": [
      "You found the secret word...DEMOCRACY, Congratulations\n"
     ]
    }
   ],
   "source": [
    "# HANGMAN GAME \n",
    "\n",
    "# First you need to import the module getpass, so the word you type each type stays safe and private\n",
    "import getpass\n",
    "\n",
    "secret_word = getpass.getpass('Please type the secret word, so the game starts:')\n",
    "\n",
    "# We have to create an empty list next and there we are going to save your guesses \n",
    "guesses = []\n",
    "# Just a boolean\n",
    "done = False\n",
    "# The number of lives you have for each game \n",
    "lifes = 6\n",
    "\n",
    "while not done:\n",
    "    for char in secret_word:\n",
    "        if char.lower() in guesses:\n",
    "            print(char , end=' ')\n",
    "        else:\n",
    "            print('_', end=' ')\n",
    "    print(' ')\n",
    "\n",
    "    guess = input(f'You have {lifes} until you lose. Be more careful:')\n",
    "    guesses.append(guess.lower())\n",
    "\n",
    "    if guess.lower()  not in secret_word.lower():\n",
    "        lifes -= 1\n",
    "        if lifes ==0:\n",
    "            break\n",
    "\n",
    "\n",
    "    done = True\n",
    "    for char in secret_word:\n",
    "        if char.lower() not in guesses:\n",
    "            done = False\n",
    "\n",
    "\n",
    "            \n",
    "            \n",
    "\n",
    "if done:\n",
    "    print(f'You found the secret word...{secret_word}, Congratulations')\n",
    "else:\n",
    "    print(f'GAME OVER')"
   ]
  }
 ],
 "metadata": {
  "kernelspec": {
   "display_name": "Python 3",
   "language": "python",
   "name": "python3"
  },
  "language_info": {
   "codemirror_mode": {
    "name": "ipython",
    "version": 3
   },
   "file_extension": ".py",
   "mimetype": "text/x-python",
   "name": "python",
   "nbconvert_exporter": "python",
   "pygments_lexer": "ipython3",
   "version": "3.7.10"
  }
 },
 "nbformat": 4,
 "nbformat_minor": 5
}
