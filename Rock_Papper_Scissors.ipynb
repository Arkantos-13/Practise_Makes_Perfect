{
 "cells": [
  {
   "cell_type": "markdown",
   "metadata": {},
   "source": [
    "##### ROCK PAPER SCISSORS"
   ]
  },
  {
   "cell_type": "code",
   "execution_count": 9,
   "metadata": {},
   "outputs": [
    {
     "name": "stdout",
     "output_type": "stream",
     "text": [
      "Please type your choice: 'r' for rock, 'p' for paper, 's' for scissors\n"
     ]
    },
    {
     "name": "stdin",
     "output_type": "stream",
     "text": [
      " s\n"
     ]
    },
    {
     "data": {
      "text/plain": [
       "' You did it! You won ! Congratulations'"
      ]
     },
     "execution_count": 9,
     "metadata": {},
     "output_type": "execute_result"
    }
   ],
   "source": [
    "import random \n",
    "\n",
    "def rock_paper_scissors():\n",
    "    print(\"Please type your choice: 'r' for rock, 'p' for paper, 's' for scissors\")\n",
    "    user_choice = input()\n",
    "\n",
    "# The computer will pick one random choice each time \n",
    "    computer_choice = random.choice(['r','p','s'])\n",
    "\n",
    "# First case is the tie between the player and the computer\n",
    "    if user_choice == computer_choice:\n",
    "        return ' It\\'s a tie , but you can play again if you want'\n",
    "    \n",
    "# Second case is the user to win, in order to check it we call the function win    \n",
    "    if win(user_choice,computer_choice):\n",
    "        return ' You did it! You won ! Congratulations'\n",
    "    \n",
    "# Last but not least case is the user to lose\n",
    "# If the first two cases are False, then only this case can be True\n",
    "    return 'You lost this time but you try again'\n",
    "\n",
    "# Only returns True if you actually win \n",
    "# The possible combinations to win the game are the following\n",
    "# r > p , s > p , p > r \n",
    "\n",
    "def win(user_choice, computer_choice):\n",
    "    if  ( user_choice == 'r' and computer_choice =='p' ) or \\\n",
    "        ( user_choice == 's' and computer_choice =='p' ) or \\\n",
    "        ( user_choice == 'p' and computer_choice =='r' ):\n",
    "        return True \n",
    "    \n",
    "    \n",
    "rock_paper_scissors()"
   ]
  }
 ],
 "metadata": {
  "kernelspec": {
   "display_name": "Python 3",
   "language": "python",
   "name": "python3"
  },
  "language_info": {
   "codemirror_mode": {
    "name": "ipython",
    "version": 3
   },
   "file_extension": ".py",
   "mimetype": "text/x-python",
   "name": "python",
   "nbconvert_exporter": "python",
   "pygments_lexer": "ipython3",
   "version": "3.7.6"
  }
 },
 "nbformat": 4,
 "nbformat_minor": 4
}
